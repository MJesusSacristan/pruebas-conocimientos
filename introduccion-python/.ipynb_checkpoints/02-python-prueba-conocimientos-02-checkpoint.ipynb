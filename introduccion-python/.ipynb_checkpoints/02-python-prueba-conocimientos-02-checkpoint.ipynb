{
 "cells": [
  {
   "cell_type": "markdown",
   "metadata": {},
   "source": [
    "## Prueba de Conocimientos Python 02\n",
    "\n",
    "Usar solo las librerias vistas en el modulo de **`Introduccion a Python`**.\n",
    "\n",
    "Recomendación:\n",
    "\n",
    "**`from datetime import datetime`**\n",
    "\n",
    "**`from collections import Counter`**"
   ]
  },
  {
   "cell_type": "markdown",
   "metadata": {},
   "source": [
    "Vamos a definir una clase llamada **`UsuarioNetflix`**.\n",
    "\n",
    "Esta clase tendrá nuestra información de usuario, así como un todas las películas que hemos visto, y las puntuación de cada pelicula.\n",
    "\n",
    "- Define una clase llamada **`UsuarioNetflix`** que tenga los siguientes atributos:\n",
    "1. **`username`** que será el nombre del usuario.\n",
    "2. **`movies`** que será un diccionario:\n",
    "    - Las llaves de este diccionario serán los titulos de las peliculas.\n",
    "    - Los valores de cada llave será un diccionario que tendrá las siguientes llaves:\n",
    "        - La puntuación de cada pelicula dada por el usuario.\n",
    "        - La fecha en la en la que el usuario vio la pelicula (**`Dia-Mes-Año`**).\n",
    "        - Genero.\n",
    "    - Debe ser inicializado vacio.\n",
    "    \n",
    "- La clase tendrá los siguientes métodos:\n",
    "1. **`ver_pelicula()`** que tome los siguientes parámetros:\n",
    "    - **`titulo`**: el titulo de la pelicula.\n",
    "    - **`puntuacion`**: la puntuacion del usuario.\n",
    "    - **`genero`**: el género de la película.\n",
    "    - **`fecha`**: la fecha de cuando el usuario vio la pelicula, esta fecha debe estar en formato **`Dia-Mes-Año`**. Transforma esta fecha a un objeto **`datetime`**. Haz que por defecto la fecha sea el día de hoy.\n",
    "    \n",
    "    Éste método deberá hacer lo siguiente:\n",
    "    - Agrege la información al diccionario **`movies`** tal que:\n",
    "```python\n",
    "{titulo : {\"puntuacion\" : puntuacion, \"fecha\" : fecha, \"genero\" : genero}}\n",
    "```\n",
    "    - El método no retorna nada.\n",
    "    \n",
    "    \n",
    "2. **`display_peliculas()`** que no tome ningún parámetro:\n",
    "    - Muestre por pantalla la lista de peliculas que el usuario a visto, seguido de su puntuación, la fecha y el género.\n",
    "        - **`Titulo: Sipderman - Puntuación: 5 - Fecha: 01-01-2022 - Género: Acción`**.\n",
    "    - La función no retorna nada.\n",
    "    \n",
    "    \n",
    "3. **`mas_gustados()`** que no tome ningún parámetro:\n",
    "    - Encuentre cual es la puntuación más alta dada por el usuario. Guardalo en la variable **`max_puntuacion`**.\n",
    "    - Retorne una lista con las peliculas que tengan la puntuación más alta (**`max_puntuacion`**). Llama a la lista **`peliculas`**.\n",
    "    \n",
    "    \n",
    "4. **`menos_gustados()`** que no tome ningún parámetro:\n",
    "    - Encuentre cual es la puntuación más baja dada por el usuario. Guardalo en la variable **`min_puntuacion`**.\n",
    "    - Retorne una lista con las peliculas que tengan la puntuación más baja (**`min_puntuacion`**). Llama a la lista **`peliculas`**.\n",
    "    \n",
    "    \n",
    "5. **`info_genero()`** que no tome ningún parámetro:\n",
    "    - Imprima por pantalla la siguiente información:\n",
    "        - Género más visto.\n",
    "        - Género menos visto.\n",
    "        - Género con la puntuación más alta.\n",
    "        - Género con la puntuación más baja.\n",
    "        - Todos los géneros vistos por el usuario.\n",
    "        - El método no retorna nada.\n",
    "        \n",
    "        \n",
    "6. **`info_fechas()`** que no time ningún parámetro:\n",
    "    - Imprima por pantalla la siguiente información:\n",
    "        - Mes cuando se vió más peliculas.\n",
    "        - Mes cuando se vió menos peliculas.\n",
    "        - Año cuando se vió más peliculas.\n",
    "        - Año cuando se vió menos peliculas.\n",
    "        - Dia de la semana cuando se ve más peliculas (El resultado deberá ser un día de la semana).\n",
    "        - Dia de la semana cuando se ve menos peliculas (El resultado deberá ser un día de la semana).\n",
    "        \n",
    "        \n",
    "6. **`exportar_info()`** que no tome ningún parámetro:\n",
    "    - Guarde en un archivo **`.pkl`** el diccionario **`movies`**. El archivo debe llamarse **`usuario_netflix_info.pkl`**.\n",
    "    - El método no retorna nada."
   ]
  },
  {
   "cell_type": "code",
   "execution_count": null,
   "metadata": {
    "execution": {
     "iopub.execute_input": "2022-02-19T19:51:00.632480Z",
     "iopub.status.busy": "2022-02-19T19:51:00.632103Z",
     "iopub.status.idle": "2022-02-19T19:51:00.658362Z",
     "shell.execute_reply": "2022-02-19T19:51:00.657619Z",
     "shell.execute_reply.started": "2022-02-19T19:51:00.632378Z"
    }
   },
   "outputs": [],
   "source": [
    "from datetime import datetime\n",
    "from collections import Counter\n",
    "import pickle"
   ]
  },
  {
   "cell_type": "code",
   "execution_count": null,
   "metadata": {
    "execution": {
     "iopub.execute_input": "2022-02-19T19:51:02.518133Z",
     "iopub.status.busy": "2022-02-19T19:51:02.517577Z",
     "iopub.status.idle": "2022-02-19T19:51:02.537728Z",
     "shell.execute_reply": "2022-02-19T19:51:02.537048Z",
     "shell.execute_reply.started": "2022-02-19T19:51:02.518097Z"
    }
   },
   "outputs": [],
   "source": [
    "class UsuarioNetflix:\n",
    "    \n",
    "    def __init__(self, username):\n",
    "        self.username = username # nombre del usuario\n",
    "        self.movies = dict()\n",
    "#           { titulo1 : { \"puntuacion\" : puntuacion,\n",
    "#                        \"fecha\" : fecha,\n",
    "#                        \"genero\" : genero },\n",
    "#             titulo2 : { \"puntuacion\" : puntuacion,\n",
    "#                        \"fecha\" : fecha,\n",
    "#                        \"genero\" : genero },\n",
    "#             titulo3 : { \"puntuacion\" : puntuacion,\n",
    "#                        \"fecha\" : fecha,\n",
    "#                        \"genero\" : genero }\n",
    "#            }\n",
    "\n",
    "\n",
    "    # Agregar la información de una película al diccionario movies\n",
    "    def ver_pelicula(self, titulo, puntuacion, genero, fecha = datetime.now().strftime(\"%d-%m-%Y\")):\n",
    "        # titulo: el titulo de la pelicula.\n",
    "        # puntuacion: la puntuacion del usuario.\n",
    "        # genero: el género de la película.\n",
    "        # fecha: la fecha de cuando el usuario vio la pelicula, en formato Dia-Mes-Año.\n",
    "        \n",
    "        self.movies[titulo] = {\n",
    "            \"puntuacion\" : puntuacion,\n",
    "            \"fecha\" : datetime.strptime(fecha, \"%d-%m-%Y\"),\n",
    "            \"genero\" : genero\n",
    "        }\n",
    "\n",
    "\n",
    "    # Mostrar por pantalla la lista de peliculas que el usuario ha visto, seguido de su puntuación,\n",
    "    # la fecha y el género\n",
    "    def display_peliculas(self):\n",
    "\n",
    "        for llave, valor in self.movies.items():\n",
    "            print(f\"Título: {llave} - Puntuación: {valor['puntuacion']} - Fecha: {valor['fecha']} - Género: {valor['genero']}\")\n",
    "    \n",
    "\n",
    "    # Retornar una lista con las peliculas que tengan la puntuación más alta\n",
    "    def mas_gustados(self):\n",
    "        puntuaciones = list()\n",
    "        peliculas = list()\n",
    "        \n",
    "        # Recogemos todas las puntuaciones en una lista\n",
    "        for valor in self.movies.values():\n",
    "            puntuaciones.append(valor[\"puntuacion\"])\n",
    "        \n",
    "        # Obtenemos la puntuación más alta\n",
    "        max_puntuacion = max(puntuaciones)\n",
    "\n",
    "        # Recogemos todas las películas con la puntuación más alta\n",
    "        for llave, valor in self.movies.items():\n",
    "            if valor[\"puntuacion\"] == max_puntuacion:\n",
    "                peliculas.append(llave)\n",
    "\n",
    "        return peliculas\n",
    "\n",
    "\n",
    "    # Retornar una lista con las peliculas que tengan la puntuación más baja\n",
    "    def menos_gustados(self):\n",
    "        puntuaciones = list()\n",
    "        peliculas = list()\n",
    "        \n",
    "        # Recogemos todas las puntuaciones en una lista\n",
    "        for valor in self.movies.values():\n",
    "            puntuaciones.append(valor[\"puntuacion\"])\n",
    "        \n",
    "        # Obtenemos la puntuación más baja\n",
    "        min_puntuacion = min(puntuaciones)\n",
    "\n",
    "        # Recogemos todas las películas con la puntuación más baja\n",
    "        for llave, valor in self.movies.items():\n",
    "            if valor[\"puntuacion\"] == min_puntuacion:\n",
    "                peliculas.append(llave)\n",
    "\n",
    "        return peliculas\n",
    "\n",
    "\n",
    "    # Imprimir por pantalla:\n",
    "    #  - Género más visto\n",
    "    #  - Género menos visto\n",
    "    #  - Género con la puntuación más alta\n",
    "    #  - Género con la puntuación más baja\n",
    "    #  - Todos los géneros vistos por el usuario\n",
    "    def info_genero(self):\n",
    "        \n",
    "        # Diccionario auxiliar donde:\n",
    "        # llave: genero, valor: lista de puntuaciones\n",
    "        generos = dict()\n",
    "        \n",
    "        # Recorro el diccionario \"movies\"\n",
    "        for valor in self.movies.values():\n",
    "            \n",
    "            genero = valor[\"genero\"]\n",
    "            puntuacion = valor[\"puntuacion\"]\n",
    "\n",
    "            # Relleno el diccionario auxiliar\n",
    "            if genero not in generos:\n",
    "                puntuaciones = list()\n",
    "                puntuaciones.append(puntuacion)\n",
    "                generos[genero] = puntuaciones\n",
    "            else:\n",
    "                generos[genero].append(puntuacion)\n",
    "\n",
    "        # Inicialización de variables\n",
    "        mas_peliculas = 0\n",
    "        menos_peliculas = len(list(generos.values())[0])\n",
    "        genero_menos_visto = list(generos.keys())[0]\n",
    "        mas_puntos = 0\n",
    "        menos_puntos = min(list(generos.values())[0])\n",
    "        genero_menos_puntos = list(generos.keys())[0]\n",
    "        \n",
    "        # Recorro el diccionario auxiliar para obtener los resultados\n",
    "        for llave, valor in generos.items():\n",
    "            # Género más visto\n",
    "            if mas_peliculas < len(valor):\n",
    "                genero_mas_visto = llave\n",
    "                mas_peliculas = len(valor)\n",
    "\n",
    "            # Género menos visto\n",
    "            if menos_peliculas > len(valor):\n",
    "                genero_menos_visto = llave\n",
    "                menos_peliculas = len(valor)\n",
    "\n",
    "            # Género puntuación más alta\n",
    "            if mas_puntos < max(valor):\n",
    "                genero_mas_puntos = llave\n",
    "                mas_puntos = max(valor)\n",
    "\n",
    "            # Género puntuación más baja\n",
    "            if menos_puntos > min(valor):\n",
    "                genero_menos_puntos = llave\n",
    "                menos_puntos = min(valor)\n",
    "\n",
    "        # Presentación por pantalla\n",
    "        print(f\"El género más visto es {genero_mas_visto}.\")\n",
    "        print(f\"El género menos visto es {genero_menos_visto}.\")\n",
    "        print(f\"El género con la puntuación más alta es {genero_mas_puntos}.\")\n",
    "        print(f\"El género con la puntuación más baja es {genero_menos_puntos}.\")\n",
    "        print(\"Todos los géneros vistos por el usuario:\")\n",
    "        for key in generos.keys():\n",
    "            print(f\"- {key}.\")\n",
    "\n",
    "\n",
    "    # Imprimir por pantalla la siguiente información:\n",
    "    #  - Mes cuando se vió más peliculas\n",
    "    #  - Mes cuando se vió menos peliculas\n",
    "    #  - Año cuando se vió más peliculas\n",
    "    #  - Año cuando se vió menos peliculas\n",
    "    #  - Dia de la semana cuando se ve más peliculas (El resultado deberá ser un día de la semana)\n",
    "    #  - Dia de la semana cuando se ve menos peliculas (El resultado deberá ser un día de la semana).\n",
    "    def info_fechas(self):\n",
    "        meses = list()\n",
    "        anios = list()\n",
    "        dias = list()\n",
    "        \n",
    "        # Recorremos todas las fechas para extraer\n",
    "        for valor in self.movies.values():\n",
    "            fecha = valor[\"fecha\"]\n",
    "            # Meses\n",
    "            meses.append(fecha.strftime(\"%B\"))\n",
    "            # Años\n",
    "            anios.append(fecha.strftime(\"%Y\"))\n",
    "            # Días de la semana\n",
    "            dias.append(fecha.strftime(\"%A\"))\n",
    "\n",
    "        counter_meses = Counter(meses)\n",
    "        mes_mas_pelis = list(counter_meses.keys())[0]\n",
    "        mes_menos_pelis = list(counter_meses.keys())[-1]\n",
    "        \n",
    "        counter_anios = Counter(anios)\n",
    "        anio_mas_pelis = list(counter_anios.keys())[0]\n",
    "        anio_menos_pelis = list(counter_anios.keys())[-1]\n",
    "        \n",
    "        counter_dias = Counter(dias)\n",
    "        dia_mas_pelis = list(counter_dias.keys())[0]\n",
    "        dia_menos_pelis = list(counter_dias.keys())[-1]\n",
    "        \n",
    "        # Presentación por pantalla\n",
    "        print(f\"Mes cuando se vio más películas: {mes_mas_pelis}.\")\n",
    "        print(f\"Mes cuando se vio menos películas: {mes_menos_pelis}.\")\n",
    "        print(f\"Año cuando se vio más películas: {anio_mas_pelis}.\")\n",
    "        print(f\"Año cuando se vio menos películas: {anio_menos_pelis}.\")\n",
    "        print(f\"Día de la semana cuando se ve más películas: {dia_mas_pelis}.\")\n",
    "        print(f\"Día de la semana cuando se ve menos películas: {dia_menos_pelis}.\")\n",
    "\n",
    "\n",
    "    # Guardar en un archivo usuario_netflix_info.pkl el diccionario movies\n",
    "    def exportar_info(self):\n",
    "        with open(\"usuario_netflix_info.pkl\", \"bw\") as file:\n",
    "            pickle.dump(self.movies, file)"
   ]
  },
  {
   "cell_type": "code",
   "execution_count": null,
   "metadata": {
    "execution": {
     "iopub.execute_input": "2022-02-19T19:52:23.767804Z",
     "iopub.status.busy": "2022-02-19T19:52:23.767513Z",
     "iopub.status.idle": "2022-02-19T19:52:23.774399Z",
     "shell.execute_reply": "2022-02-19T19:52:23.773564Z",
     "shell.execute_reply.started": "2022-02-19T19:52:23.767775Z"
    }
   },
   "outputs": [],
   "source": [
    "usuario = UsuarioNetflix(\"mj\")\n",
    "usuario.ver_pelicula(\"Glee\", 6, \"Musical\", \"16-01-2022\")\n",
    "usuario.ver_pelicula(\"The Office\", 4, \"Comedia\", \"31-01-2022\")\n",
    "usuario.ver_pelicula(\"Frozen\", 8, \"Animación\", \"22-08-2019\")\n",
    "usuario.ver_pelicula(\"La bella y la bestia\", 10, \"Animación\", \"26-12-1990\")\n",
    "usuario.ver_pelicula(\"Spiderman\", 5, \"Acción\", \"01-01-2022\")\n",
    "usuario.ver_pelicula(\"The Batman\", 7.9, \"Aventura\")\n",
    "usuario.ver_pelicula(\"Dune\", 7.3, \"Ciencia ficción\")\n",
    "usuario.ver_pelicula(\"West Side Story\", 7, \"Musical\")\n",
    "usuario.ver_pelicula(\"Los Mitchell contra las máquinas\", 7.1, \"Animación\", \"15-10-2021\")\n",
    "usuario.ver_pelicula(\"Luca\", 6.9, \"Animación\", \"09-07-2021\")\n",
    "usuario.ver_pelicula(\"No mires arriba\", 2, \"Ciencia ficción\", \"23-09-2021\")"
   ]
  },
  {
   "cell_type": "code",
   "execution_count": null,
   "metadata": {},
   "outputs": [],
   "source": [
    "usuario.movies"
   ]
  },
  {
   "cell_type": "code",
   "execution_count": null,
   "metadata": {
    "execution": {
     "iopub.execute_input": "2022-02-19T19:52:26.069271Z",
     "iopub.status.busy": "2022-02-19T19:52:26.068997Z",
     "iopub.status.idle": "2022-02-19T19:52:26.078035Z",
     "shell.execute_reply": "2022-02-19T19:52:26.076990Z",
     "shell.execute_reply.started": "2022-02-19T19:52:26.069243Z"
    }
   },
   "outputs": [],
   "source": [
    "usuario.mas_gustados()"
   ]
  },
  {
   "cell_type": "code",
   "execution_count": null,
   "metadata": {
    "execution": {
     "iopub.execute_input": "2022-02-19T19:52:27.445915Z",
     "iopub.status.busy": "2022-02-19T19:52:27.445610Z",
     "iopub.status.idle": "2022-02-19T19:52:27.453719Z",
     "shell.execute_reply": "2022-02-19T19:52:27.452508Z",
     "shell.execute_reply.started": "2022-02-19T19:52:27.445880Z"
    }
   },
   "outputs": [],
   "source": [
    "usuario.menos_gustados()"
   ]
  },
  {
   "cell_type": "code",
   "execution_count": null,
   "metadata": {},
   "outputs": [],
   "source": [
    "usuario.info_genero()"
   ]
  },
  {
   "cell_type": "code",
   "execution_count": null,
   "metadata": {
    "execution": {
     "iopub.execute_input": "2022-02-19T19:52:31.513213Z",
     "iopub.status.busy": "2022-02-19T19:52:31.512913Z",
     "iopub.status.idle": "2022-02-19T19:52:31.595946Z",
     "shell.execute_reply": "2022-02-19T19:52:31.594403Z",
     "shell.execute_reply.started": "2022-02-19T19:52:31.513180Z"
    }
   },
   "outputs": [],
   "source": [
    "usuario.info_fechas()"
   ]
  },
  {
   "cell_type": "code",
   "execution_count": null,
   "metadata": {
    "execution": {
     "iopub.execute_input": "2022-02-19T19:55:07.082811Z",
     "iopub.status.busy": "2022-02-19T19:55:07.082157Z",
     "iopub.status.idle": "2022-02-19T19:55:07.087786Z",
     "shell.execute_reply": "2022-02-19T19:55:07.086757Z",
     "shell.execute_reply.started": "2022-02-19T19:55:07.082768Z"
    }
   },
   "outputs": [],
   "source": [
    "usuario.exportar_info()"
   ]
  },
  {
   "cell_type": "code",
   "execution_count": null,
   "metadata": {
    "execution": {
     "iopub.execute_input": "2022-02-19T19:55:58.771023Z",
     "iopub.status.busy": "2022-02-19T19:55:58.770204Z",
     "iopub.status.idle": "2022-02-19T19:55:58.776821Z",
     "shell.execute_reply": "2022-02-19T19:55:58.775828Z",
     "shell.execute_reply.started": "2022-02-19T19:55:58.770964Z"
    }
   },
   "outputs": [],
   "source": [
    "with open(\"usuario_netflix_info.pkl\", \"br\") as file:\n",
    "    netfilx = pickle.load(file)\n",
    "print(netfilx)"
   ]
  },
  {
   "cell_type": "code",
   "execution_count": null,
   "metadata": {},
   "outputs": [],
   "source": []
  },
  {
   "cell_type": "code",
   "execution_count": null,
   "metadata": {},
   "outputs": [],
   "source": []
  },
  {
   "cell_type": "code",
   "execution_count": null,
   "metadata": {},
   "outputs": [],
   "source": []
  }
 ],
 "metadata": {
  "kernelspec": {
   "display_name": "Python 3",
   "language": "python",
   "name": "python3"
  },
  "language_info": {
   "codemirror_mode": {
    "name": "ipython",
    "version": 3
   },
   "file_extension": ".py",
   "mimetype": "text/x-python",
   "name": "python",
   "nbconvert_exporter": "python",
   "pygments_lexer": "ipython3",
   "version": "3.8.8"
  }
 },
 "nbformat": 4,
 "nbformat_minor": 4
}
