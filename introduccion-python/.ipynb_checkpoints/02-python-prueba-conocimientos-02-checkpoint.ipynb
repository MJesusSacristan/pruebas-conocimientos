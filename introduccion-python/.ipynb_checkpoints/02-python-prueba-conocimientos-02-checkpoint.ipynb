{
 "cells": [
  {
   "cell_type": "markdown",
   "metadata": {},
   "source": [
    "## Prueba de Conocimientos Python 02\n",
    "\n",
    "Usar solo las librerias vistas en el modulo de **`Introduccion a Python`**.\n",
    "\n",
    "Recomendación:\n",
    "\n",
    "**`from datetime import datetime`**\n",
    "\n",
    "**`from collections import Counter`**"
   ]
  },
  {
   "cell_type": "markdown",
   "metadata": {},
   "source": [
    "Vamos a definir una clase llamada **`UsuarioNetflix`**.\n",
    "\n",
    "Esta clase tendrá nuestra información de usuario, así como un todas las películas que hemos visto, y las puntuación de cada pelicula.\n",
    "\n",
    "- Define una clase llamada **`UsuarioNetflix`** que tenga los siguientes atributos:\n",
    "1. **`username`** que será el nombre del usuario.\n",
    "2. **`movies`** que será un diccionario:\n",
    "    - Las llaves de este diccionario serán los titulos de las peliculas.\n",
    "    - Los valores de cada llave será un diccionario que tendrá las siguientes llaves:\n",
    "        - La puntuación de cada pelicula dada por el usuario.\n",
    "        - La fecha en la en la que el usuario vio la pelicula (**`Dia-Mes-Año`**).\n",
    "        - Genero.\n",
    "    - Debe ser inicializado vacio.\n",
    "    \n",
    "- La clase tendrá los siguientes métodos:\n",
    "1. **`ver_pelicula()`** que tome los siguientes parámetros:\n",
    "    - **`titulo`**: el titulo de la pelicula.\n",
    "    - **`puntuacion`**: la puntuacion del usuario.\n",
    "    - **`genero`**: el género de la película.\n",
    "    - **`fecha`**: la fecha de cuando el usuario vio la pelicula, esta fecha debe estar en formato **`Dia-Mes-Año`**. Transforma esta fecha a un objeto **`datetime`**. Haz que por defecto la fecha sea el día de hoy.\n",
    "    \n",
    "    Éste método deberá hacer lo siguiente:\n",
    "    - Agrege la información al diccionario **`movies`** tal que:\n",
    "```python\n",
    "{titulo : {\"puntuacion\" : puntuacion, \"fecha\" : fecha, \"genero\" : genero}}\n",
    "```\n",
    "    - El método no retorna nada.\n",
    "    \n",
    "    \n",
    "2. **`display_peliculas()`** que no tome ningún parámetro:\n",
    "    - Muestre por pantalla la lista de peliculas que el usuario a visto, seguido de su puntuación, la fecha y el género.\n",
    "        - **`Titulo: Sipderman - Puntuación: 5 - Fecha: 01-01-2022 - Género: Acción`**.\n",
    "    - La función no retorna nada.\n",
    "    \n",
    "    \n",
    "3. **`mas_gustados()`** que no tome ningún parámetro:\n",
    "    - Encuentre cual es la puntuación más alta dada por el usuario. Guardalo en la variable **`max_puntuacion`**.\n",
    "    - Retorne una lista con las peliculas que tengan la puntuación más alta (**`max_puntuacion`**). Llama a la lista **`peliculas`**.\n",
    "    \n",
    "    \n",
    "4. **`menos_gustados()`** que no tome ningún parámetro:\n",
    "    - Encuentre cual es la puntuación más baja dada por el usuario. Guardalo en la variable **`min_puntuacion`**.\n",
    "    - Retorne una lista con las peliculas que tengan la puntuación más baja (**`min_puntuacion`**). Llama a la lista **`peliculas`**.\n",
    "    \n",
    "    \n",
    "5. **`info_genero()`** que no tome ningún parámetro:\n",
    "    - Imprima por pantalla la siguiente información:\n",
    "        - Género más visto.\n",
    "        - Género menos visto.\n",
    "        - Género con la puntuación más alta.\n",
    "        - Género con la puntuación más baja.\n",
    "        - Todos los géneros vistos por el usuario.\n",
    "        - El método no retorna nada.\n",
    "        \n",
    "        \n",
    "6. **`info_fechas()`** que no time ningún parámetro:\n",
    "    - Imprima por pantalla la siguiente información:\n",
    "        - Mes cuando se vió más peliculas.\n",
    "        - Mes cuando se vió menos peliculas.\n",
    "        - Año cuando se vió más peliculas.\n",
    "        - Año cuando se vió menos peliculas.\n",
    "        - Dia de la semana cuando se ve más peliculas (El resultado deberá ser un día de la semana).\n",
    "        - Dia de la semana cuando se ve menos peliculas (El resultado deberá ser un día de la semana).\n",
    "        \n",
    "        \n",
    "6. **`exportar_info()`** que no tome ningún parámetro:\n",
    "    - Guarde en un archivo **`.pkl`** el diccionario **`movies`**. El archivo debe llamarse **`usuario_netflix_info.pkl`**.\n",
    "    - El método no retorna nada."
   ]
  },
  {
   "cell_type": "code",
   "execution_count": 1,
   "metadata": {
    "execution": {
     "iopub.execute_input": "2022-02-19T19:51:00.632480Z",
     "iopub.status.busy": "2022-02-19T19:51:00.632103Z",
     "iopub.status.idle": "2022-02-19T19:51:00.658362Z",
     "shell.execute_reply": "2022-02-19T19:51:00.657619Z",
     "shell.execute_reply.started": "2022-02-19T19:51:00.632378Z"
    }
   },
   "outputs": [],
   "source": [
    "from datetime import datetime\n",
    "from collections import Counter\n",
    "import pickle"
   ]
  },
  {
   "cell_type": "code",
   "execution_count": 104,
   "metadata": {
    "execution": {
     "iopub.execute_input": "2022-02-19T19:51:02.518133Z",
     "iopub.status.busy": "2022-02-19T19:51:02.517577Z",
     "iopub.status.idle": "2022-02-19T19:51:02.537728Z",
     "shell.execute_reply": "2022-02-19T19:51:02.537048Z",
     "shell.execute_reply.started": "2022-02-19T19:51:02.518097Z"
    }
   },
   "outputs": [],
   "source": [
    "class UsuarioNetflix:\n",
    "    \n",
    "    def __init__(self, username):\n",
    "        self.username = username # nombre del usuario\n",
    "        self.movies = dict() # { titulo : { \"puntuacion\" : puntuacion, \"fecha\" : fecha, \"genero\" : genero } }\n",
    "    \n",
    "    # Agregar la información de una película al diccionario movies\n",
    "    def ver_pelicula(self, titulo, puntuacion, genero, fecha = datetime.now().strftime(\"%d-%m-%Y\")):\n",
    "        # titulo: el titulo de la pelicula.\n",
    "        # puntuacion: la puntuacion del usuario.\n",
    "        # genero: el género de la película.\n",
    "        # fecha: la fecha de cuando el usuario vio la pelicula, en formato Dia-Mes-Año.\n",
    "        \n",
    "        self.movies[titulo] = {\n",
    "            \"puntuacion\" : puntuacion,\n",
    "            \"fecha\" : datetime.strptime(fecha, \"%d-%m-%Y\"),\n",
    "            \"genero\" : genero\n",
    "        }\n",
    "    \n",
    "    # Mostrar por pantalla la lista de peliculas que el usuario ha visto, seguido de su puntuación, la fecha y el género\n",
    "    def display_peliculas(self):\n",
    "\n",
    "        for llave, valor in self.movies.items():\n",
    "            print(f\"Título: {llave} - Puntuación: {valor['puntuacion']} - Fecha: {valor['fecha']} - Género: {valor['genero']}\")\n",
    "    \n",
    "    # Retornar una lista con las peliculas que tengan la puntuación más alta\n",
    "    def mas_gustados(self):\n",
    "        puntuaciones = list()\n",
    "        peliculas = list()\n",
    "        \n",
    "        # Recogemos todas las puntuaciones en una lista\n",
    "        for valor in self.movies.values():\n",
    "            puntuaciones.append(valor[\"puntuacion\"])\n",
    "        \n",
    "        # Obtenemos la puntuación más alta\n",
    "        max_puntuacion = max(puntuaciones)\n",
    "\n",
    "        # Recogemos todas las películas con la puntuación más alta\n",
    "        for llave, valor in self.movies.items():\n",
    "            if valor[\"puntuacion\"] == max_puntuacion:\n",
    "                peliculas.append(llave)\n",
    "\n",
    "        return peliculas\n",
    "\n",
    "    # Retornar una lista con las peliculas que tengan la puntuación más baja\n",
    "    def menos_gustados(self):\n",
    "        puntuaciones = list()\n",
    "        peliculas = list()\n",
    "        \n",
    "        # Recogemos todas las puntuaciones en una lista\n",
    "        for valor in self.movies.values():\n",
    "            puntuaciones.append(valor[\"puntuacion\"])\n",
    "        \n",
    "        # Obtenemos la puntuación más baja\n",
    "        min_puntuacion = min(puntuaciones)\n",
    "\n",
    "        # Recogemos todas las películas con la puntuación más baja\n",
    "        for llave, valor in self.movies.items():\n",
    "            if valor[\"puntuacion\"] == min_puntuacion:\n",
    "                peliculas.append(llave)\n",
    "\n",
    "        return peliculas\n",
    "\n",
    "    # Imprimir por pantalla:\n",
    "    #  - Género más visto\n",
    "    #  - Género menos visto\n",
    "    #  - Género con la puntuación más alta\n",
    "    #  - Género con la puntuación más baja\n",
    "    #  - Todos los géneros vistos por el usuario\n",
    "    def info_genero(self):\n",
    "        generos = list()\n",
    "        puntuaciones = list()\n",
    "        \n",
    "        # Recogemos todos los generos en una lista\n",
    "        for valor in self.movies.values():\n",
    "            generos.append(valor[\"genero\"])\n",
    "            puntuaciones.append(valor[\"puntuacion\"])\n",
    "        \n",
    "        # Calculamos la frecuencia de cada género\n",
    "        counter_generos = dict(Counter(generos))\n",
    "\n",
    "        # Como Counter devuelve un diccionario compuesto por llaves y valores\n",
    "        # Obtenemos la mayor frecuencia a partir de los valores\n",
    "        max_frecuencia = max(counter_generos.values())\n",
    "        # Convierto los valores a lista para obtener la ubicación de la máxima frecuencia\n",
    "        ind_gen_max = list(counter_generos.values()).index(max_frecuencia)\n",
    "        genero_mas_visto = list(counter_generos.keys())[ind_gen_max]\n",
    "        # Obtenemos la menor frecuencia a partir de la lista de valores\n",
    "        min_frecuencia = min(counter_generos.values())\n",
    "        ind_gen_min = list(counter_generos.values()).index(min_frecuencia)\n",
    "        genero_menos_visto = list(counter_generos.keys())[ind_gen_min]\n",
    "\n",
    "        # Máxima puntuación\n",
    "        max_puntuacion = max(puntuaciones)\n",
    "        # Mínima puntuación\n",
    "        min_puntuacion = min(puntuaciones)\n",
    "                \n",
    "        # Recorremos todas las películas para encontrar el género con mayor y menor puntuación\n",
    "        mas_puntos = 0\n",
    "        menos_puntos = 0\n",
    "        for valor in self.movies.values():\n",
    "            if (mas_puntos == 1) and (menos_puntos == 1):\n",
    "                break\n",
    "            else:\n",
    "                if valor[\"puntuacion\"] == max_puntuacion:\n",
    "                    genero_mas_puntos = valor[\"genero\"]\n",
    "                    mas_puntos = 1\n",
    "                if valor[\"puntuacion\"] == min_puntuacion:\n",
    "                    genero_menos_puntos = valor[\"genero\"]\n",
    "                    menos_puntos = 1\n",
    "\n",
    "        # Presentación por pantalla\n",
    "        print(f\"El género más visto es {genero_mas_visto}.\")\n",
    "        print(f\"El género menos visto es {genero_menos_visto}.\")\n",
    "        print(f\"El género con la puntuación más alta es {genero_mas_puntos}.\")\n",
    "        print(f\"El género con la puntuación más baja es {genero_menos_puntos}.\")\n",
    "        print(\"Todos los géneros vistos por el usuario:\")\n",
    "        for key in counter_generos.keys():\n",
    "            print(f\"- {key}.\")\n",
    "\n",
    "    # Imprimir por pantalla la siguiente información:\n",
    "    #  - Mes cuando se vió más peliculas\n",
    "    #  - Mes cuando se vió menos peliculas\n",
    "    #  - Año cuando se vió más peliculas\n",
    "    #  - Año cuando se vió menos peliculas\n",
    "    #  - Dia de la semana cuando se ve más peliculas (El resultado deberá ser un día de la semana)\n",
    "    #  - Dia de la semana cuando se ve menos peliculas (El resultado deberá ser un día de la semana).\n",
    "    def info_fechas(self):\n",
    "        meses = list()\n",
    "        anios = list()\n",
    "        dias = list()\n",
    "        \n",
    "        # Recorremos todas las fechas para extraer\n",
    "        for valor in self.movies.values():\n",
    "            fecha = valor[\"fecha\"]\n",
    "            # Meses\n",
    "            meses.append(fecha.strftime(\"%B\"))\n",
    "            # Años\n",
    "            anios.append(fecha.strftime(\"%Y\"))\n",
    "            # Días de la semana\n",
    "            dias.append(fecha.strftime(\"%A\"))\n",
    "\n",
    "        # Obtenemos la frecuencia de cada mes\n",
    "        counter_meses = Counter(meses)\n",
    "        # Mes cuando se vio más películas\n",
    "        max_frecuencia = max(counter_meses.values())\n",
    "        ind_mes_mas = list(counter_meses.values()).index(max_frecuencia)\n",
    "        mes_mas_pelis = list(counter_meses.keys())[ind_mes_mas]\n",
    "        # Mes cuando se vio menos películas\n",
    "        min_frecuencia = min(counter_meses.values())\n",
    "        ind_mes_menos = list(counter_meses.values()).index(min_frecuencia)\n",
    "        mes_menos_pelis = list(counter_meses.keys())[ind_mes_menos]\n",
    "        \n",
    "        # Obtenemos la frecuencia de cada año\n",
    "        counter_anios = Counter(anios)\n",
    "        # Año cuando se vio más películas\n",
    "        max_frecuencia = max(counter_anios.values())\n",
    "        ind_anio_mas = list(counter_anios.values()).index(max_frecuencia)\n",
    "        anio_mas_pelis = list(counter_anios.keys())[ind_anio_mas]\n",
    "        # Año cuando se vio menos películas\n",
    "        min_frecuencia = min(counter_anios.values())\n",
    "        ind_anio_menos = list(counter_anios.values()).index(min_frecuencia)\n",
    "        anio_menos_pelis = list(counter_anios.keys())[ind_anio_menos]\n",
    "        \n",
    "        # Obtenemos la frecuencia de cada día \n",
    "        counter_dias = Counter(dias)\n",
    "        # Día de la semana cuando se vio más películas\n",
    "        max_frecuencia = max(counter_dias.values())\n",
    "        ind_dia_mas = list(counter_dias.values()).index(max_frecuencia)\n",
    "        dia_mas_pelis = list(counter_dias.keys())[ind_dia_mas]\n",
    "        # Día de la semana cuando se vio menos películas\n",
    "        min_frecuencia = min(counter_dias.values())\n",
    "        ind_dia_menos = list(counter_dias.values()).index(min_frecuencia)\n",
    "        dia_menos_pelis = list(counter_dias.keys())[ind_dia_menos]\n",
    "\n",
    "        # Presentación por pantalla\n",
    "        print(f\"Mes cuando se vio más películas: {mes_mas_pelis}.\")\n",
    "        print(f\"Mes cuando se vio menos películas: {mes_menos_pelis}.\")\n",
    "        print(f\"Año cuando se vio más películas: {anio_mas_pelis}.\")\n",
    "        print(f\"Año cuando se vio menos películas: {anio_menos_pelis}.\")\n",
    "        print(f\"Día de la semana cuando se ve más películas: {dia_mas_pelis}.\")\n",
    "        print(f\"Día de la semana cuando se ve menos películas: {dia_menos_pelis}.\")\n",
    "\n",
    "    # Guardar en un archivo usuario_netflix_info.pkl el diccionario movies\n",
    "    def exportar_info(self):\n",
    "        with open(\"usuario_netflix_info.pkl\", \"bw\") as file:\n",
    "            pickle.dump(self.movies, file)"
   ]
  },
  {
   "cell_type": "code",
   "execution_count": 106,
   "metadata": {
    "execution": {
     "iopub.execute_input": "2022-02-19T19:52:23.767804Z",
     "iopub.status.busy": "2022-02-19T19:52:23.767513Z",
     "iopub.status.idle": "2022-02-19T19:52:23.774399Z",
     "shell.execute_reply": "2022-02-19T19:52:23.773564Z",
     "shell.execute_reply.started": "2022-02-19T19:52:23.767775Z"
    }
   },
   "outputs": [],
   "source": [
    "usuario = UsuarioNetflix(\"mj\")\n",
    "usuario.ver_pelicula(\"Glee\", 6, \"Musical\", \"16-01-2022\")\n",
    "usuario.ver_pelicula(\"The Office\", 4, \"Comedia\", \"31-01-2022\")\n",
    "usuario.ver_pelicula(\"Frozen\", 8, \"Infantil\", \"22-08-2019\")\n",
    "usuario.ver_pelicula(\"La bella y la bestia\", 10, \"Infantil\", \"26-12-1990\")"
   ]
  },
  {
   "cell_type": "code",
   "execution_count": 107,
   "metadata": {},
   "outputs": [
    {
     "data": {
      "text/plain": [
       "{'Glee': {'puntuacion': 6,\n",
       "  'fecha': datetime.datetime(2022, 1, 16, 0, 0),\n",
       "  'genero': 'Musical'},\n",
       " 'The Office': {'puntuacion': 4,\n",
       "  'fecha': datetime.datetime(2022, 1, 31, 0, 0),\n",
       "  'genero': 'Comedia'},\n",
       " 'Frozen': {'puntuacion': 8,\n",
       "  'fecha': datetime.datetime(2019, 8, 22, 0, 0),\n",
       "  'genero': 'Infantil'},\n",
       " 'La bella y la bestia': {'puntuacion': 10,\n",
       "  'fecha': datetime.datetime(1990, 12, 26, 0, 0),\n",
       "  'genero': 'Infantil'}}"
      ]
     },
     "execution_count": 107,
     "metadata": {},
     "output_type": "execute_result"
    }
   ],
   "source": [
    "usuario.movies"
   ]
  },
  {
   "cell_type": "code",
   "execution_count": 108,
   "metadata": {
    "execution": {
     "iopub.execute_input": "2022-02-19T19:52:26.069271Z",
     "iopub.status.busy": "2022-02-19T19:52:26.068997Z",
     "iopub.status.idle": "2022-02-19T19:52:26.078035Z",
     "shell.execute_reply": "2022-02-19T19:52:26.076990Z",
     "shell.execute_reply.started": "2022-02-19T19:52:26.069243Z"
    }
   },
   "outputs": [
    {
     "data": {
      "text/plain": [
       "['La bella y la bestia']"
      ]
     },
     "execution_count": 108,
     "metadata": {},
     "output_type": "execute_result"
    }
   ],
   "source": [
    "usuario.mas_gustados()"
   ]
  },
  {
   "cell_type": "code",
   "execution_count": 109,
   "metadata": {
    "execution": {
     "iopub.execute_input": "2022-02-19T19:52:27.445915Z",
     "iopub.status.busy": "2022-02-19T19:52:27.445610Z",
     "iopub.status.idle": "2022-02-19T19:52:27.453719Z",
     "shell.execute_reply": "2022-02-19T19:52:27.452508Z",
     "shell.execute_reply.started": "2022-02-19T19:52:27.445880Z"
    }
   },
   "outputs": [
    {
     "data": {
      "text/plain": [
       "['The Office']"
      ]
     },
     "execution_count": 109,
     "metadata": {},
     "output_type": "execute_result"
    }
   ],
   "source": [
    "usuario.menos_gustados()"
   ]
  },
  {
   "cell_type": "code",
   "execution_count": 110,
   "metadata": {
    "execution": {
     "iopub.execute_input": "2022-02-19T19:52:31.513213Z",
     "iopub.status.busy": "2022-02-19T19:52:31.512913Z",
     "iopub.status.idle": "2022-02-19T19:52:31.595946Z",
     "shell.execute_reply": "2022-02-19T19:52:31.594403Z",
     "shell.execute_reply.started": "2022-02-19T19:52:31.513180Z"
    }
   },
   "outputs": [
    {
     "name": "stdout",
     "output_type": "stream",
     "text": [
      "Mes cuando se vio más películas: January.\n",
      "Mes cuando se vio menos películas: August.\n",
      "Año cuando se vio más películas: 2022.\n",
      "Año cuando se vio menos películas: 2019.\n",
      "Día de la semana cuando se ve más películas: Sunday.\n",
      "Día de la semana cuando se ve menos películas: Sunday.\n"
     ]
    }
   ],
   "source": [
    "usuario.info_fechas()"
   ]
  },
  {
   "cell_type": "code",
   "execution_count": 111,
   "metadata": {
    "execution": {
     "iopub.execute_input": "2022-02-19T19:55:07.082811Z",
     "iopub.status.busy": "2022-02-19T19:55:07.082157Z",
     "iopub.status.idle": "2022-02-19T19:55:07.087786Z",
     "shell.execute_reply": "2022-02-19T19:55:07.086757Z",
     "shell.execute_reply.started": "2022-02-19T19:55:07.082768Z"
    }
   },
   "outputs": [],
   "source": [
    "usuario.exportar_info()"
   ]
  },
  {
   "cell_type": "code",
   "execution_count": 112,
   "metadata": {
    "execution": {
     "iopub.execute_input": "2022-02-19T19:55:58.771023Z",
     "iopub.status.busy": "2022-02-19T19:55:58.770204Z",
     "iopub.status.idle": "2022-02-19T19:55:58.776821Z",
     "shell.execute_reply": "2022-02-19T19:55:58.775828Z",
     "shell.execute_reply.started": "2022-02-19T19:55:58.770964Z"
    }
   },
   "outputs": [
    {
     "name": "stdout",
     "output_type": "stream",
     "text": [
      "{'Glee': {'puntuacion': 6, 'fecha': datetime.datetime(2022, 1, 16, 0, 0), 'genero': 'Musical'}, 'The Office': {'puntuacion': 4, 'fecha': datetime.datetime(2022, 1, 31, 0, 0), 'genero': 'Comedia'}, 'Frozen': {'puntuacion': 8, 'fecha': datetime.datetime(2019, 8, 22, 0, 0), 'genero': 'Infantil'}, 'La bella y la bestia': {'puntuacion': 10, 'fecha': datetime.datetime(1990, 12, 26, 0, 0), 'genero': 'Infantil'}}\n"
     ]
    }
   ],
   "source": [
    "with open(\"usuario_netflix_info.pkl\", \"br\") as file:\n",
    "    netfilx = pickle.load(file)\n",
    "print(netfilx)"
   ]
  },
  {
   "cell_type": "code",
   "execution_count": null,
   "metadata": {},
   "outputs": [],
   "source": []
  },
  {
   "cell_type": "code",
   "execution_count": null,
   "metadata": {},
   "outputs": [],
   "source": []
  },
  {
   "cell_type": "code",
   "execution_count": null,
   "metadata": {},
   "outputs": [],
   "source": []
  },
  {
   "cell_type": "code",
   "execution_count": null,
   "metadata": {},
   "outputs": [],
   "source": []
  }
 ],
 "metadata": {
  "kernelspec": {
   "display_name": "Python 3",
   "language": "python",
   "name": "python3"
  },
  "language_info": {
   "codemirror_mode": {
    "name": "ipython",
    "version": 3
   },
   "file_extension": ".py",
   "mimetype": "text/x-python",
   "name": "python",
   "nbconvert_exporter": "python",
   "pygments_lexer": "ipython3",
   "version": "3.8.8"
  }
 },
 "nbformat": 4,
 "nbformat_minor": 4
}
