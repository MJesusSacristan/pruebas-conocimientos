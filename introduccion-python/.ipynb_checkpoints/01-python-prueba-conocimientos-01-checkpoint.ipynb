{
 "cells": [
  {
   "cell_type": "markdown",
   "metadata": {},
   "source": [
    "## Prueba de Conocimientos Python 01\n",
    "\n",
    "Usar solo las librerias vistas en el modulo de **`Introduccion a Python`**."
   ]
  },
  {
   "cell_type": "markdown",
   "metadata": {},
   "source": [
    "### Ejercicio 1:\n",
    "\n",
    "Vamos a definir una función que simule el lanzamiento de un dado de **\"M\"** caras. La función debe preguntar al usuario cuantas caras tiene el dado, luego debe preguntar cuantas veces se quiere lanzar el dado y mostrar los resultados.\n",
    "\n",
    "\n",
    "- Define una función llamada **`dados()`** que no tome ningún parámetro y que haga lo siguiente:\n",
    "\n",
    "    1. Pregunte por pantalla cuantas caras tiene el dado. Guarda este valor en la variable **`m`**.\n",
    "    2. Pregunte por pantalla cuantas veces se va a lanzar el dado. Guarda este valor en la variable **`n`**.\n",
    "    3. Imprima por pantalla: **`Resultados de lanzar un dado de m caras n veces:`**.\n",
    "    4. Imprima por pantalla un número entero aleatorio entre 1 y **`m`** (incluidos) **`n-veces`**.\n",
    "    5. Guarde en una lista los números aleatorios que van saliendo, llama a esta lista **`resultados`**.\n",
    "    5. La función debe retornar la lista **`resultados`**."
   ]
  },
  {
   "cell_type": "code",
   "execution_count": 1,
   "metadata": {
    "execution": {
     "iopub.execute_input": "2022-02-19T15:52:15.248616Z",
     "iopub.status.busy": "2022-02-19T15:52:15.248250Z",
     "iopub.status.idle": "2022-02-19T15:52:15.273838Z",
     "shell.execute_reply": "2022-02-19T15:52:15.273033Z",
     "shell.execute_reply.started": "2022-02-19T15:52:15.248525Z"
    }
   },
   "outputs": [],
   "source": [
    "import random"
   ]
  },
  {
   "cell_type": "code",
   "execution_count": 2,
   "metadata": {
    "execution": {
     "iopub.execute_input": "2022-02-19T15:52:18.948707Z",
     "iopub.status.busy": "2022-02-19T15:52:18.948297Z",
     "iopub.status.idle": "2022-02-19T15:52:18.955692Z",
     "shell.execute_reply": "2022-02-19T15:52:18.955111Z",
     "shell.execute_reply.started": "2022-02-19T15:52:18.948677Z"
    }
   },
   "outputs": [],
   "source": [
    "def dados():\n",
    "    resultados = []\n",
    "    # 1. Pregunte por pantalla cuantas caras tiene el dado. Guarda este valor en la variable m.\n",
    "    m = int(input(\"¿Cuántas caras tiene el dado?\"))\n",
    "    # 2. Pregunte por pantalla cuantas veces se va a lanzar el dado. Guarda este valor en la variable n.\n",
    "    n = int(input(\"¿Cuántas veces se va a lanzar el dado?\"))\n",
    "    # 3. Imprima por pantalla: Resultados de lanzar un dado de m caras n veces:\n",
    "    print(f\"Resultado de lanzar un dado de {m} caras {n} veces: \")\n",
    "    # 4. Imprima por pantalla un número entero aleatorio entre 1 y m (incluidos) n-veces.\n",
    "    # 5. Guarde en una lista los números aleatorios que van saliendo, llama a esta lista resultados.\n",
    "    for i in range(n):\n",
    "        num = random.randint(1,m)\n",
    "        print(num)\n",
    "        resultados.append(num)\n",
    "    # 6. La función debe retornar la lista resultados.\n",
    "    return resultados"
   ]
  },
  {
   "cell_type": "code",
   "execution_count": 3,
   "metadata": {
    "execution": {
     "iopub.execute_input": "2022-02-19T15:52:46.247961Z",
     "iopub.status.busy": "2022-02-19T15:52:46.247645Z",
     "iopub.status.idle": "2022-02-19T15:52:51.936296Z",
     "shell.execute_reply": "2022-02-19T15:52:51.935257Z",
     "shell.execute_reply.started": "2022-02-19T15:52:46.247928Z"
    }
   },
   "outputs": [
    {
     "name": "stdout",
     "output_type": "stream",
     "text": [
      "¿Cuántas caras tiene el dado?12\n",
      "¿Cuántas veces se va a lanzar el dado?5\n",
      "Resultado de lanzar un dado de 12 caras 5 veces: \n",
      "10\n",
      "12\n",
      "4\n",
      "10\n",
      "9\n"
     ]
    },
    {
     "data": {
      "text/plain": [
       "[10, 12, 4, 10, 9]"
      ]
     },
     "execution_count": 3,
     "metadata": {},
     "output_type": "execute_result"
    }
   ],
   "source": [
    "dados()"
   ]
  },
  {
   "cell_type": "code",
   "execution_count": null,
   "metadata": {},
   "outputs": [],
   "source": []
  },
  {
   "cell_type": "code",
   "execution_count": null,
   "metadata": {},
   "outputs": [],
   "source": []
  },
  {
   "cell_type": "code",
   "execution_count": null,
   "metadata": {},
   "outputs": [],
   "source": []
  },
  {
   "cell_type": "code",
   "execution_count": null,
   "metadata": {},
   "outputs": [],
   "source": []
  },
  {
   "cell_type": "markdown",
   "metadata": {},
   "source": [
    "### Ejercicio 2:\n",
    "\n",
    "Vamos a definir una función que simule un cajero automático con un número finito de billetes y monedas. Cada vez que se ejecute la función, el usuario va a ingresar o sacar dinero del cajero. En algún momento el cajero quedará vacio o no se podrá sacar una cifra exacta, en ese caso se deberá imprimir por pantalla que el cajero está fuera de servicio.\n",
    "\n",
    "Para este ejercicio el cajero tendrá billetes de 500, 100, 50, 20, 10 y 5 euros. Y monedas de 2, 1, 0.5, 0.2 y 0.1 euros.\n",
    "\n",
    "- Define una función llamada **`cajero()`** que tome como parametro de entrada un archivo binario (**`archivo`**) y que haga lo siguiente:\n",
    "1. Lea el archivo binario y lo guarde en la variable **`euros`**.\n",
    "    - Este archivo binario es un diccionario que tiene como llaves las denominaciones de billetes y monedas y como valores la cantidad de cada uno en el cajero.\n",
    "    \n",
    "    \n",
    "2. Imprima por pantalla que cantidad tiene de cada billete y moneda, además del total del dinero en el cajero.\n",
    "3. Pregunte por pantalla cuanto dinero el usuario va a sacar del cajero.\n",
    "4. Modifica los valores de cada llave, de modo que parezca que ahora el cajero tiene menos dinero.\n",
    "\n",
    "    - Ejemplo: Si el usuario saca **`97`** euros, este **`97`** se puede representar como **`50*1 + 20*2 + 5*1 + 2*1`**, por lo que de la llave **`50`** se resta 1, de la llave **`20`** se restan 2, de la llave **`5`** se resta 1 y de la llave **`2`** se resta 1.\n",
    "    \n",
    "    \n",
    "5. Guarda el diccionario en un archivo binario con el mismo nombre que el archivo binario del comienzo (**`cajero.pkl`**).\n",
    "\n",
    "6. Si el usuario intenta sacar más dinero del posible, que imprima por pantalla: **`Cajero sin fondos suficientes.`**"
   ]
  },
  {
   "cell_type": "code",
   "execution_count": 45,
   "metadata": {
    "execution": {
     "iopub.execute_input": "2022-02-19T16:34:44.441765Z",
     "iopub.status.busy": "2022-02-19T16:34:44.441035Z",
     "iopub.status.idle": "2022-02-19T16:34:44.445710Z",
     "shell.execute_reply": "2022-02-19T16:34:44.444892Z",
     "shell.execute_reply.started": "2022-02-19T16:34:44.441717Z"
    }
   },
   "outputs": [],
   "source": [
    "import pickle\n",
    "from time import sleep"
   ]
  },
  {
   "cell_type": "code",
   "execution_count": 59,
   "metadata": {
    "execution": {
     "iopub.execute_input": "2022-02-19T16:57:22.991917Z",
     "iopub.status.busy": "2022-02-19T16:57:22.991612Z",
     "iopub.status.idle": "2022-02-19T16:57:23.003797Z",
     "shell.execute_reply": "2022-02-19T16:57:23.002960Z",
     "shell.execute_reply.started": "2022-02-19T16:57:22.991884Z"
    }
   },
   "outputs": [],
   "source": [
    "def cajero(archivo):\n",
    "    # El cajero tendrá billetes de 500, 100, 50, 20, 10 y 5 euros. Y monedas de 2, 1, 0.5, 0.2 y 0.1 euros.\n",
    "    billetes = [500, 100, 50, 20, 10, 5]\n",
    "    monedas = [2, 1, 0.5, 0.2, 0.1]\n",
    "    \n",
    "    acc = 0\n",
    "    \n",
    "    # 1. Lea el archivo binario y lo guarde en la variable euros.\n",
    "    # Este archivo binario es un diccionario que tiene como llaves las denominaciones de billetes y monedas y como valores la cantidad de cada uno en el cajero.\n",
    "    with open(archivo, \"br\") as file:\n",
    "         euros = pickle.load(file)\n",
    "    \n",
    "    print(euros)\n",
    "    \n",
    "    # 2. Imprima por pantalla que cantidad tiene de cada billete y moneda, además del total del dinero en el cajero.\n",
    "    for llave in euros.keys():\n",
    "        if llave in billetes:\n",
    "            print(f\"Hay {euros[llave]} billetes de {llave}\")\n",
    "        else:\n",
    "            print(f\"Hay {euros[llave]} monedas de {llave}\")\n",
    "        acc += euros[llave] * llave\n",
    "    \n",
    "    print(f\"El cajero contiene un total de {acc} euro\")\n",
    "    \n",
    "    sleep(1)\n",
    "    \n",
    "    # 3. Pregunte por pantalla cuanto dinero el usuario va a sacar del cajero.\n",
    "    reintegro = float(input(\"¿Cuánto dinero va a sacar del cajero?\"))\n",
    "    \n",
    "    # 6. Si el usuario intenta sacar más dinero del posible, que imprima por pantalla: Cajero sin fondos suficientes.\n",
    "    if reintegro > acc:\n",
    "        print(\"Cajero sin fondos suficientes\")\n",
    "    \n",
    "    # 4. Modifica los valores de cada llave, de modo que parezca que ahora el cajero tiene menos dinero.\n",
    "    # Ejemplo: Si el usuario saca 97 euros, este 97 se puede representar como 50*1 + 20*2 + 5*1 + 2*1, por lo que de la llave 50 se resta 1,\n",
    "    # de la llave 20 se restan 2, de la llave 5 se resta 1 y de la llave 2 se resta 1    \n",
    "    for llave in euros.keys():\n",
    "        # Si 97 > 50:\n",
    "        if reintegro >= llave:\n",
    "            # 1 = 97 // 50\n",
    "            num = reintegro // llave\n",
    "            # reintegro será el resto de dividir el valor original entre la denominación del billete o moneda\n",
    "            # 97 % 50 = 47\n",
    "            reintegro %= llave # reintegro -= num * llave\n",
    "            # el total se reducirá la cantidad de multiplicar el número de elementos por la denominación del billete o moneda\n",
    "            # por ejemplo, acc = 2000: acc = 2000 - (1 * 50) = 1950\n",
    "            acc -= num * llave\n",
    "            # el cajero pierde num billetes o monedas de tipo \"llave\"\n",
    "            # por ejemplo, si hubiera 4: euros[50] = 4 - 1 = 3\n",
    "            euros[llave] -= num\n",
    "            \n",
    "            if llave in billetes:\n",
    "                print(f\"Habrá {num} billetes de {llave}\")\n",
    "            else:\n",
    "                print(f\"Habrá {num} monedas de {llave}\")\n",
    "\n",
    "    \n",
    "    # 5. Guarda el diccionario en un archivo binario con el mismo nombre que el archivo binario del comienzo (cajero.pkl).\n",
    "    with open(\"cajero.pkl\", \"bw\") as file2:\n",
    "        pickle.dump(euros, file2)"
   ]
  },
  {
   "cell_type": "code",
   "execution_count": 60,
   "metadata": {
    "execution": {
     "iopub.execute_input": "2022-02-19T16:57:24.465527Z",
     "iopub.status.busy": "2022-02-19T16:57:24.464634Z",
     "iopub.status.idle": "2022-02-19T16:57:25.598406Z",
     "shell.execute_reply": "2022-02-19T16:57:25.597590Z",
     "shell.execute_reply.started": "2022-02-19T16:57:24.465485Z"
    }
   },
   "outputs": [
    {
     "name": "stdout",
     "output_type": "stream",
     "text": [
      "{500: 55, 100: 71, 50: 30, 20: 128, 10: 338, 5: 198, 2: 921, 1: 183, 0.5: 52, 0.2: 89, 0.1: 13}\n",
      "Hay 55 billetes de 500\n",
      "Hay 71 billetes de 100\n",
      "Hay 30 billetes de 50\n",
      "Hay 128 billetes de 20\n",
      "Hay 338 billetes de 10\n",
      "Hay 198 billetes de 5\n",
      "Hay 921 monedas de 2\n",
      "Hay 183 monedas de 1\n",
      "Hay 52 monedas de 0.5\n",
      "Hay 89 monedas de 0.2\n",
      "Hay 13 monedas de 0.1\n",
      "El cajero contiene un total de 45100.100000000006 euro\n"
     ]
    },
    {
     "ename": "KeyboardInterrupt",
     "evalue": "Interrupted by user",
     "output_type": "error",
     "traceback": [
      "\u001b[0;31m---------------------------------------------------------------------------\u001b[0m",
      "\u001b[0;31mKeyboardInterrupt\u001b[0m                         Traceback (most recent call last)",
      "\u001b[0;32m<ipython-input-60-eee795941fac>\u001b[0m in \u001b[0;36m<module>\u001b[0;34m\u001b[0m\n\u001b[0;32m----> 1\u001b[0;31m \u001b[0mcajero\u001b[0m\u001b[0;34m(\u001b[0m\u001b[0;34m\"cajero.pkl\"\u001b[0m\u001b[0;34m)\u001b[0m\u001b[0;34m\u001b[0m\u001b[0;34m\u001b[0m\u001b[0m\n\u001b[0m",
      "\u001b[0;32m<ipython-input-59-5ef1ede7e5c4>\u001b[0m in \u001b[0;36mcajero\u001b[0;34m(archivo)\u001b[0m\n\u001b[1;32m     26\u001b[0m \u001b[0;34m\u001b[0m\u001b[0m\n\u001b[1;32m     27\u001b[0m     \u001b[0;31m# 3. Pregunte por pantalla cuanto dinero el usuario va a sacar del cajero.\u001b[0m\u001b[0;34m\u001b[0m\u001b[0;34m\u001b[0m\u001b[0;34m\u001b[0m\u001b[0m\n\u001b[0;32m---> 28\u001b[0;31m     \u001b[0mreintegro\u001b[0m \u001b[0;34m=\u001b[0m \u001b[0mfloat\u001b[0m\u001b[0;34m(\u001b[0m\u001b[0minput\u001b[0m\u001b[0;34m(\u001b[0m\u001b[0;34m\"¿Cuánto dinero va a sacar del cajero?\"\u001b[0m\u001b[0;34m)\u001b[0m\u001b[0;34m)\u001b[0m\u001b[0;34m\u001b[0m\u001b[0;34m\u001b[0m\u001b[0m\n\u001b[0m\u001b[1;32m     29\u001b[0m \u001b[0;34m\u001b[0m\u001b[0m\n\u001b[1;32m     30\u001b[0m     \u001b[0;31m# 6. Si el usuario intenta sacar más dinero del posible, que imprima por pantalla: Cajero sin fondos suficientes.\u001b[0m\u001b[0;34m\u001b[0m\u001b[0;34m\u001b[0m\u001b[0;34m\u001b[0m\u001b[0m\n",
      "\u001b[0;32m~/anaconda3/lib/python3.8/site-packages/ipykernel/kernelbase.py\u001b[0m in \u001b[0;36mraw_input\u001b[0;34m(self, prompt)\u001b[0m\n\u001b[1;32m    858\u001b[0m                 \u001b[0;34m\"raw_input was called, but this frontend does not support input requests.\"\u001b[0m\u001b[0;34m\u001b[0m\u001b[0;34m\u001b[0m\u001b[0m\n\u001b[1;32m    859\u001b[0m             )\n\u001b[0;32m--> 860\u001b[0;31m         return self._input_request(str(prompt),\n\u001b[0m\u001b[1;32m    861\u001b[0m             \u001b[0mself\u001b[0m\u001b[0;34m.\u001b[0m\u001b[0m_parent_ident\u001b[0m\u001b[0;34m,\u001b[0m\u001b[0;34m\u001b[0m\u001b[0;34m\u001b[0m\u001b[0m\n\u001b[1;32m    862\u001b[0m             \u001b[0mself\u001b[0m\u001b[0;34m.\u001b[0m\u001b[0m_parent_header\u001b[0m\u001b[0;34m,\u001b[0m\u001b[0;34m\u001b[0m\u001b[0;34m\u001b[0m\u001b[0m\n",
      "\u001b[0;32m~/anaconda3/lib/python3.8/site-packages/ipykernel/kernelbase.py\u001b[0m in \u001b[0;36m_input_request\u001b[0;34m(self, prompt, ident, parent, password)\u001b[0m\n\u001b[1;32m    902\u001b[0m             \u001b[0;32mexcept\u001b[0m \u001b[0mKeyboardInterrupt\u001b[0m\u001b[0;34m:\u001b[0m\u001b[0;34m\u001b[0m\u001b[0;34m\u001b[0m\u001b[0m\n\u001b[1;32m    903\u001b[0m                 \u001b[0;31m# re-raise KeyboardInterrupt, to truncate traceback\u001b[0m\u001b[0;34m\u001b[0m\u001b[0;34m\u001b[0m\u001b[0;34m\u001b[0m\u001b[0m\n\u001b[0;32m--> 904\u001b[0;31m                 \u001b[0;32mraise\u001b[0m \u001b[0mKeyboardInterrupt\u001b[0m\u001b[0;34m(\u001b[0m\u001b[0;34m\"Interrupted by user\"\u001b[0m\u001b[0;34m)\u001b[0m \u001b[0;32mfrom\u001b[0m \u001b[0;32mNone\u001b[0m\u001b[0;34m\u001b[0m\u001b[0;34m\u001b[0m\u001b[0m\n\u001b[0m\u001b[1;32m    905\u001b[0m             \u001b[0;32mexcept\u001b[0m \u001b[0mException\u001b[0m \u001b[0;32mas\u001b[0m \u001b[0me\u001b[0m\u001b[0;34m:\u001b[0m\u001b[0;34m\u001b[0m\u001b[0;34m\u001b[0m\u001b[0m\n\u001b[1;32m    906\u001b[0m                 \u001b[0mself\u001b[0m\u001b[0;34m.\u001b[0m\u001b[0mlog\u001b[0m\u001b[0;34m.\u001b[0m\u001b[0mwarning\u001b[0m\u001b[0;34m(\u001b[0m\u001b[0;34m\"Invalid Message:\"\u001b[0m\u001b[0;34m,\u001b[0m \u001b[0mexc_info\u001b[0m\u001b[0;34m=\u001b[0m\u001b[0;32mTrue\u001b[0m\u001b[0;34m)\u001b[0m\u001b[0;34m\u001b[0m\u001b[0;34m\u001b[0m\u001b[0m\n",
      "\u001b[0;31mKeyboardInterrupt\u001b[0m: Interrupted by user"
     ]
    }
   ],
   "source": [
    "cajero(\"cajero.pkl\")"
   ]
  },
  {
   "cell_type": "code",
   "execution_count": 57,
   "metadata": {
    "execution": {
     "iopub.execute_input": "2022-02-19T16:58:09.295168Z",
     "iopub.status.busy": "2022-02-19T16:58:09.294672Z",
     "iopub.status.idle": "2022-02-19T16:58:09.300791Z",
     "shell.execute_reply": "2022-02-19T16:58:09.300161Z",
     "shell.execute_reply.started": "2022-02-19T16:58:09.295120Z"
    }
   },
   "outputs": [
    {
     "name": "stdout",
     "output_type": "stream",
     "text": [
      "{500: 56, 100: 71, 50: 31, 20: 130, 10: 338, 5: 199, 2: 923, 1: 183, 0.5: 53, 0.2: 90, 0.1: 14}\n"
     ]
    }
   ],
   "source": [
    "# Fichero \"cajero.pkl\" original\n",
    "with open(\"cajero.pkl\", \"br\") as file:\n",
    "    euros = pickle.load(file)\n",
    "print(euros)"
   ]
  },
  {
   "cell_type": "code",
   "execution_count": null,
   "metadata": {},
   "outputs": [],
   "source": []
  },
  {
   "cell_type": "code",
   "execution_count": null,
   "metadata": {},
   "outputs": [],
   "source": []
  },
  {
   "cell_type": "code",
   "execution_count": null,
   "metadata": {},
   "outputs": [],
   "source": []
  },
  {
   "cell_type": "code",
   "execution_count": null,
   "metadata": {},
   "outputs": [],
   "source": []
  },
  {
   "cell_type": "code",
   "execution_count": null,
   "metadata": {},
   "outputs": [],
   "source": []
  },
  {
   "cell_type": "code",
   "execution_count": null,
   "metadata": {},
   "outputs": [],
   "source": []
  },
  {
   "cell_type": "code",
   "execution_count": null,
   "metadata": {},
   "outputs": [],
   "source": []
  },
  {
   "cell_type": "code",
   "execution_count": null,
   "metadata": {},
   "outputs": [],
   "source": []
  },
  {
   "cell_type": "code",
   "execution_count": null,
   "metadata": {},
   "outputs": [],
   "source": []
  }
 ],
 "metadata": {
  "kernelspec": {
   "display_name": "Python 3",
   "language": "python",
   "name": "python3"
  },
  "language_info": {
   "codemirror_mode": {
    "name": "ipython",
    "version": 3
   },
   "file_extension": ".py",
   "mimetype": "text/x-python",
   "name": "python",
   "nbconvert_exporter": "python",
   "pygments_lexer": "ipython3",
   "version": "3.8.8"
  }
 },
 "nbformat": 4,
 "nbformat_minor": 4
}
