{
 "cells": [
  {
   "cell_type": "markdown",
   "metadata": {},
   "source": [
    "## Prueba de Conocimientos Python 01\n",
    "\n",
    "Usar solo las librerias vistas en el modulo de **`Introduccion a Python`**."
   ]
  },
  {
   "cell_type": "markdown",
   "metadata": {},
   "source": [
    "### Ejercicio 1:\n",
    "\n",
    "Vamos a definir una función que simule el lanzamiento de un dado de **\"M\"** caras. La función debe preguntar al usuario cuantas caras tiene el dado, luego debe preguntar cuantas veces se quiere lanzar el dado y mostrar los resultados.\n",
    "\n",
    "\n",
    "- Define una función llamada **`dados()`** que no tome ningún parámetro y que haga lo siguiente:\n",
    "\n",
    "    1. Pregunte por pantalla cuantas caras tiene el dado. Guarda este valor en la variable **`m`**.\n",
    "    2. Pregunte por pantalla cuantas veces se va a lanzar el dado. Guarda este valor en la variable **`n`**.\n",
    "    3. Imprima por pantalla: **`Resultados de lanzar un dado de m caras n veces:`**.\n",
    "    4. Imprima por pantalla un número entero aleatorio entre 1 y **`m`** (incluidos) **`n-veces`**.\n",
    "    5. Guarde en una lista los números aleatorios que van saliendo, llama a esta lista **`resultados`**.\n",
    "    5. La función debe retornar la lista **`resultados`**."
   ]
  },
  {
   "cell_type": "code",
   "execution_count": null,
   "metadata": {
    "execution": {
     "iopub.execute_input": "2022-02-19T15:52:15.248616Z",
     "iopub.status.busy": "2022-02-19T15:52:15.248250Z",
     "iopub.status.idle": "2022-02-19T15:52:15.273838Z",
     "shell.execute_reply": "2022-02-19T15:52:15.273033Z",
     "shell.execute_reply.started": "2022-02-19T15:52:15.248525Z"
    }
   },
   "outputs": [],
   "source": [
    "import random"
   ]
  },
  {
   "cell_type": "code",
   "execution_count": null,
   "metadata": {
    "execution": {
     "iopub.execute_input": "2022-02-19T15:52:18.948707Z",
     "iopub.status.busy": "2022-02-19T15:52:18.948297Z",
     "iopub.status.idle": "2022-02-19T15:52:18.955692Z",
     "shell.execute_reply": "2022-02-19T15:52:18.955111Z",
     "shell.execute_reply.started": "2022-02-19T15:52:18.948677Z"
    }
   },
   "outputs": [],
   "source": [
    "def dados():\n",
    "    resultados = []\n",
    "    # 1. Pregunte por pantalla cuantas caras tiene el dado. Guarda este valor en la variable m.\n",
    "    m = int(input(\"¿Cuántas caras tiene el dado?\"))\n",
    "    # 2. Pregunte por pantalla cuantas veces se va a lanzar el dado. Guarda este valor en la variable n.\n",
    "    n = int(input(\"¿Cuántas veces se va a lanzar el dado?\"))\n",
    "    # 3. Imprima por pantalla: Resultados de lanzar un dado de m caras n veces:\n",
    "    print(f\"Resultado de lanzar un dado de {m} caras {n} veces: \")\n",
    "    # 4. Imprima por pantalla un número entero aleatorio entre 1 y m (incluidos) n-veces.\n",
    "    # 5. Guarde en una lista los números aleatorios que van saliendo, llama a esta lista resultados.\n",
    "    for i in range(n):\n",
    "        num = random.randint(1,m)\n",
    "        print(num)\n",
    "        resultados.append(num)\n",
    "    # 6. La función debe retornar la lista resultados.\n",
    "    return resultados"
   ]
  },
  {
   "cell_type": "code",
   "execution_count": null,
   "metadata": {
    "execution": {
     "iopub.execute_input": "2022-02-19T15:52:46.247961Z",
     "iopub.status.busy": "2022-02-19T15:52:46.247645Z",
     "iopub.status.idle": "2022-02-19T15:52:51.936296Z",
     "shell.execute_reply": "2022-02-19T15:52:51.935257Z",
     "shell.execute_reply.started": "2022-02-19T15:52:46.247928Z"
    }
   },
   "outputs": [],
   "source": [
    "dados()"
   ]
  },
  {
   "cell_type": "code",
   "execution_count": null,
   "metadata": {},
   "outputs": [],
   "source": []
  },
  {
   "cell_type": "code",
   "execution_count": null,
   "metadata": {},
   "outputs": [],
   "source": []
  },
  {
   "cell_type": "code",
   "execution_count": null,
   "metadata": {},
   "outputs": [],
   "source": []
  },
  {
   "cell_type": "code",
   "execution_count": null,
   "metadata": {},
   "outputs": [],
   "source": []
  },
  {
   "cell_type": "markdown",
   "metadata": {},
   "source": [
    "### Ejercicio 2:\n",
    "\n",
    "Vamos a definir una función que simule un cajero automático con un número finito de billetes y monedas. Cada vez que se ejecute la función, el usuario va a ingresar o sacar dinero del cajero. En algún momento el cajero quedará vacio o no se podrá sacar una cifra exacta, en ese caso se deberá imprimir por pantalla que el cajero está fuera de servicio.\n",
    "\n",
    "Para este ejercicio el cajero tendrá billetes de 500, 100, 50, 20, 10 y 5 euros. Y monedas de 2, 1, 0.5, 0.2 y 0.1 euros.\n",
    "\n",
    "- Define una función llamada **`cajero()`** que tome como parametro de entrada un archivo binario (**`archivo`**) y que haga lo siguiente:\n",
    "1. Lea el archivo binario y lo guarde en la variable **`euros`**.\n",
    "    - Este archivo binario es un diccionario que tiene como llaves las denominaciones de billetes y monedas y como valores la cantidad de cada uno en el cajero.\n",
    "    \n",
    "    \n",
    "2. Imprima por pantalla que cantidad tiene de cada billete y moneda, además del total del dinero en el cajero.\n",
    "3. Pregunte por pantalla cuanto dinero el usuario va a sacar del cajero.\n",
    "4. Modifica los valores de cada llave, de modo que parezca que ahora el cajero tiene menos dinero.\n",
    "\n",
    "    - Ejemplo: Si el usuario saca **`97`** euros, este **`97`** se puede representar como **`50*1 + 20*2 + 5*1 + 2*1`**, por lo que de la llave **`50`** se resta 1, de la llave **`20`** se restan 2, de la llave **`5`** se resta 1 y de la llave **`2`** se resta 1.\n",
    "    \n",
    "    \n",
    "5. Guarda el diccionario en un archivo binario con el mismo nombre que el archivo binario del comienzo (**`cajero.pkl`**).\n",
    "\n",
    "6. Si el usuario intenta sacar más dinero del posible, que imprima por pantalla: **`Cajero sin fondos suficientes.`**"
   ]
  },
  {
   "cell_type": "code",
   "execution_count": null,
   "metadata": {
    "execution": {
     "iopub.execute_input": "2022-02-19T16:34:44.441765Z",
     "iopub.status.busy": "2022-02-19T16:34:44.441035Z",
     "iopub.status.idle": "2022-02-19T16:34:44.445710Z",
     "shell.execute_reply": "2022-02-19T16:34:44.444892Z",
     "shell.execute_reply.started": "2022-02-19T16:34:44.441717Z"
    }
   },
   "outputs": [],
   "source": [
    "import pickle\n",
    "from time import sleep"
   ]
  },
  {
   "cell_type": "code",
   "execution_count": null,
   "metadata": {
    "execution": {
     "iopub.execute_input": "2022-02-19T16:57:22.991917Z",
     "iopub.status.busy": "2022-02-19T16:57:22.991612Z",
     "iopub.status.idle": "2022-02-19T16:57:23.003797Z",
     "shell.execute_reply": "2022-02-19T16:57:23.002960Z",
     "shell.execute_reply.started": "2022-02-19T16:57:22.991884Z"
    }
   },
   "outputs": [],
   "source": [
    "def cajero(archivo):\n",
    "    # El cajero tendrá billetes de 500, 100, 50, 20, 10 y 5 euros. Y monedas de 2, 1, 0.5, 0.2 y 0.1 euros.\n",
    "    billetes = [500, 100, 50, 20, 10, 5]\n",
    "    monedas = [2, 1, 0.5, 0.2, 0.1]\n",
    "    \n",
    "    acc = 0\n",
    "    \n",
    "    # 1. Lea el archivo binario y lo guarde en la variable euros.\n",
    "    with open(archivo, \"br\") as file:\n",
    "         euros = pickle.load(file)\n",
    "    \n",
    "    # 2. Imprima por pantalla que cantidad tiene de cada billete y moneda, además del total del dinero en el cajero.\n",
    "    for llave in euros.keys():\n",
    "        if llave in billetes:\n",
    "            print(f\"Hay {euros[llave]} billetes de {llave}\")\n",
    "        else:\n",
    "            print(f\"Hay {euros[llave]} monedas de {llave}\")\n",
    "        acc = round(acc + euros[llave] * llave, 1)\n",
    "    \n",
    "    print(f\"El cajero contiene un total de {acc} euros\")\n",
    "    \n",
    "    # Para que dé tiempo a mostrar la cantidad disponible antes de preguntar al usuario\n",
    "    sleep(1)\n",
    "    \n",
    "    # 3. Pregunte por pantalla cuanto dinero el usuario va a sacar del cajero.\n",
    "    reintegro = float(input(\"¿Cuánto dinero va a sacar del cajero? \"))\n",
    "    \n",
    "    # 6. Si el usuario intenta sacar más dinero del posible, que imprima por pantalla: Cajero sin fondos suficientes.\n",
    "    if reintegro > acc:\n",
    "        print(\"Cajero sin fondos suficientes\")\n",
    "    \n",
    "    # 4. Modifica los valores de cada llave, de modo que parezca que ahora el cajero tiene menos dinero.\n",
    "    for llave, valor in euros.items():\n",
    "        # Si reintegro mayor que tipo llave Y hay algún billete o moneda:\n",
    "        if (reintegro >= llave) and (valor > 0):\n",
    "            num = 0\n",
    "            # Mientras haya billetes o monedas de tipo llave\n",
    "            while valor > 0:\n",
    "                reintegro -= llave # Resto el importe del billete o moneda tratado\n",
    "                acc -= llave # Resto el tipo llave del total\n",
    "                valor -= 1 # Quito un billete o moneda de lo que había en el cajero\n",
    "                num += 1 # Sumo un billete o moneda a lo que se va a sacar del cajero\n",
    "                euros[llave] = valor # Actualizo el valor asociado a la llave\n",
    "                # Si el total restante es inferior al importe de llave, detengo el bucle\n",
    "                if reintegro < llave:\n",
    "                    break\n",
    "            \n",
    "            if (llave in billetes) and (num > 0):\n",
    "                print(f\"Habrá {num} billetes de {llave}\")\n",
    "            else:\n",
    "                print(f\"Habrá {num} monedas de {llave}\")\n",
    "\n",
    "    print(f\"Quedan un total de {acc} euros en el cajero\")\n",
    "    \n",
    "    # 5. Guarda el diccionario en un archivo binario con el mismo nombre que el archivo binario del comienzo (cajero.pkl).\n",
    "    with open(\"cajero.pkl\", \"bw\") as file2:\n",
    "        pickle.dump(euros, file2)"
   ]
  },
  {
   "cell_type": "code",
   "execution_count": null,
   "metadata": {
    "execution": {
     "iopub.execute_input": "2022-02-19T16:57:24.465527Z",
     "iopub.status.busy": "2022-02-19T16:57:24.464634Z",
     "iopub.status.idle": "2022-02-19T16:57:25.598406Z",
     "shell.execute_reply": "2022-02-19T16:57:25.597590Z",
     "shell.execute_reply.started": "2022-02-19T16:57:24.465485Z"
    }
   },
   "outputs": [],
   "source": [
    "cajero(\"cajero.pkl\")"
   ]
  },
  {
   "cell_type": "code",
   "execution_count": null,
   "metadata": {
    "execution": {
     "iopub.execute_input": "2022-02-19T16:58:09.295168Z",
     "iopub.status.busy": "2022-02-19T16:58:09.294672Z",
     "iopub.status.idle": "2022-02-19T16:58:09.300791Z",
     "shell.execute_reply": "2022-02-19T16:58:09.300161Z",
     "shell.execute_reply.started": "2022-02-19T16:58:09.295120Z"
    }
   },
   "outputs": [],
   "source": [
    "# Fichero \"cajero.pkl\" resultante\n",
    "with open(\"cajero.pkl\", \"br\") as file:\n",
    "    euros = pickle.load(file)\n",
    "print(euros)"
   ]
  },
  {
   "cell_type": "code",
   "execution_count": null,
   "metadata": {},
   "outputs": [],
   "source": []
  },
  {
   "cell_type": "code",
   "execution_count": null,
   "metadata": {},
   "outputs": [],
   "source": []
  },
  {
   "cell_type": "code",
   "execution_count": null,
   "metadata": {},
   "outputs": [],
   "source": []
  },
  {
   "cell_type": "code",
   "execution_count": null,
   "metadata": {},
   "outputs": [],
   "source": []
  },
  {
   "cell_type": "code",
   "execution_count": null,
   "metadata": {},
   "outputs": [],
   "source": []
  },
  {
   "cell_type": "code",
   "execution_count": null,
   "metadata": {},
   "outputs": [],
   "source": []
  }
 ],
 "metadata": {
  "kernelspec": {
   "display_name": "Python 3",
   "language": "python",
   "name": "python3"
  },
  "language_info": {
   "codemirror_mode": {
    "name": "ipython",
    "version": 3
   },
   "file_extension": ".py",
   "mimetype": "text/x-python",
   "name": "python",
   "nbconvert_exporter": "python",
   "pygments_lexer": "ipython3",
   "version": "3.8.8"
  }
 },
 "nbformat": 4,
 "nbformat_minor": 4
}
